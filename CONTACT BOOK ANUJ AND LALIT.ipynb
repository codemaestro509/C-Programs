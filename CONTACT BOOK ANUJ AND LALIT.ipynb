{
 "cells": [
  {
   "cell_type": "code",
   "execution_count": 3,
   "id": "122d5367-897c-4465-9709-7ffea16e74aa",
   "metadata": {},
   "outputs": [
    {
     "name": "stdout",
     "output_type": "stream",
     "text": [
      "Contact 'Alice' added successfully.\n",
      "Contact 'Bob' added successfully.\n",
      "Name: Alice\n",
      "Phone: 1234567890\n",
      "Email: alice@example.com\n",
      "All Contacts:\n",
      "Name: Alice, Phone: 1234567890, Email: alice@example.com\n",
      "Name: Bob, Phone: 9876543210, Email: bob@example.com\n",
      "Contact 'Bob' deleted successfully.\n",
      "All Contacts:\n",
      "Name: Alice, Phone: 1234567890, Email: alice@example.com\n"
     ]
    }
   ],
   "source": [
    "class ContactBook:\n",
    "    def __init__(self):\n",
    "        self.contacts = {} \n",
    "\n",
    "    def add_contact(self, name, phone_number, email):\n",
    "        \"\"\"Add a new contact to the contact book.\"\"\"\n",
    "        if name not in self.contacts:\n",
    "            self.contacts[name] = {'phone': phone_number, 'email': email}\n",
    "            print(f\"Contact '{name}' added successfully.\")\n",
    "        else:\n",
    "            print(f\"Contact '{name}' already exists.\")\n",
    "\n",
    "    def view_contact(self, name):\n",
    "        \"\"\"View details of a specific contact.\"\"\"\n",
    "        if name in self.contacts:\n",
    "            contact_details = self.contacts[name]\n",
    "            print(f\"Name: {name}\")\n",
    "            print(f\"Phone: {contact_details['phone']}\")\n",
    "            print(f\"Email: {contact_details['email']}\")\n",
    "        else:\n",
    "            print(f\"Contact '{name}' not found.\")\n",
    "\n",
    "    def delete_contact(self, name):\n",
    "        \"\"\"Delete a contact from the contact book.\"\"\"\n",
    "        if name in self.contacts:\n",
    "            del self.contacts[name]\n",
    "            print(f\"Contact '{name}' deleted successfully.\")\n",
    "        else:\n",
    "            print(f\"Contact '{name}' not found.\")\n",
    "\n",
    "    def list_all_contacts(self):\n",
    "        \"\"\"List all contacts in the contact book.\"\"\"\n",
    "        if self.contacts:\n",
    "            print(\"All Contacts:\")\n",
    "            for name, details in self.contacts.items():\n",
    "                print(f\"Name: {name}, Phone: {details['phone']}, Email: {details['email']}\")\n",
    "        else:\n",
    "            print(\"Contact book is empty.\")\n",
    "\n",
    "# Creating an instance of ContactBook\n",
    "my_contacts = ContactBook()\n",
    "\n",
    "# Adding contacts\n",
    "my_contacts.add_contact('Alice', '1234567890', 'alice@example.com')\n",
    "my_contacts.add_contact('Bob', '9876543210', 'bob@example.com')\n",
    "\n",
    "# Viewing and listing contacts\n",
    "my_contacts.view_contact('Alice')\n",
    "my_contacts.list_all_contacts()\n",
    "\n",
    "# Deleting a contact\n",
    "my_contacts.delete_contact('Bob')\n",
    "my_contacts.list_all_contacts()\n"
   ]
  },
  {
   "cell_type": "code",
   "execution_count": 4,
   "id": "ea8a4195-645b-41f4-a213-7f0ba7c997d9",
   "metadata": {},
   "outputs": [
    {
     "name": "stdout",
     "output_type": "stream",
     "text": [
      "a\n"
     ]
    }
   ],
   "source": [
    "print(\"a\")"
   ]
  },
  {
   "cell_type": "code",
   "execution_count": 1,
   "id": "9e1d46d8-7fce-40d1-9d0b-d5306280555c",
   "metadata": {},
   "outputs": [
    {
     "name": "stdout",
     "output_type": "stream",
     "text": [
      "Contact 'Alice' added successfully.\n",
      "Contact 'Bob' added successfully.\n",
      "Name: Alice\n",
      "Phone: 1234567890\n",
      "Email: alice@example.com\n",
      "All Contacts:\n",
      "Name: Alice, Phone: 1234567890, Email: alice@example.com\n",
      "Name: Bob, Phone: 9876543210, Email: bob@example.com\n",
      "Contact 'Bob' deleted successfully.\n",
      "All Contacts:\n",
      "Name: Alice, Phone: 1234567890, Email: alice@example.com\n"
     ]
    }
   ],
   "source": [
    "class ContactBook:\n",
    "    def __init__(self):\n",
    "        self.contacts = {} \n",
    "\n",
    "    def add_contact(self, name, phone_number, email):\n",
    "        \"\"\"Add a new contact to the contact book.\"\"\"\n",
    "        if name not in self.contacts:\n",
    "            self.contacts[name] = {'phone': phone_number, 'email': email}\n",
    "            print(f\"Contact '{name}' added successfully.\")\n",
    "        else:\n",
    "            print(f\"Contact '{name}' already exists.\")\n",
    "\n",
    "    def view_contact(self, name):\n",
    "        \"\"\"View details of a specific contact.\"\"\"\n",
    "        if name in self.contacts:\n",
    "            contact_details = self.contacts[name]\n",
    "            print(f\"Name: {name}\")\n",
    "            print(f\"Phone: {contact_details['phone']}\")\n",
    "            print(f\"Email: {contact_details['email']}\")\n",
    "        else:\n",
    "            print(f\"Contact '{name}' not found.\")\n",
    "\n",
    "    def delete_contact(self, name):\n",
    "        \"\"\"Delete a contact from the contact book.\"\"\"\n",
    "        if name in self.contacts:\n",
    "            del self.contacts[name]\n",
    "            print(f\"Contact '{name}' deleted successfully.\")\n",
    "        else:\n",
    "            print(f\"Contact '{name}' not found.\")\n",
    "\n",
    "    def list_all_contacts(self):\n",
    "        \"\"\"List all contacts in the contact book.\"\"\"\n",
    "        if self.contacts:\n",
    "            print(\"All Contacts:\")\n",
    "            for name, details in self.contacts.items():\n",
    "                print(f\"Name: {name}, Phone: {details['phone']}, Email: {details['email']}\")\n",
    "        else:\n",
    "            print(\"Contact book is empty.\")\n",
    "\n",
    "# Creating an instance of ContactBook\n",
    "my_contacts = ContactBook()\n",
    "\n",
    "# Adding contacts\n",
    "my_contacts.add_contact('Alice', '1234567890', 'alice@example.com')\n",
    "my_contacts.add_contact('Bob', '9876543210', 'bob@example.com')\n",
    "\n",
    "# Viewing and listing contacts\n",
    "my_contacts.view_contact('Alice')\n",
    "my_contacts.list_all_contacts()\n",
    "\n",
    "# Deleting a contact\n",
    "my_contacts.delete_contact('Bob')\n",
    "my_contacts.list_all_contacts()\n"
   ]
  },
  {
   "cell_type": "code",
   "execution_count": null,
   "id": "9d371c48-b77d-4224-9f8e-210db96828a5",
   "metadata": {},
   "outputs": [],
   "source": []
  }
 ],
 "metadata": {
  "kernelspec": {
   "display_name": "Python 3 (ipykernel)",
   "language": "python",
   "name": "python3"
  },
  "language_info": {
   "codemirror_mode": {
    "name": "ipython",
    "version": 3
   },
   "file_extension": ".py",
   "mimetype": "text/x-python",
   "name": "python",
   "nbconvert_exporter": "python",
   "pygments_lexer": "ipython3",
   "version": "3.10.9"
  }
 },
 "nbformat": 4,
 "nbformat_minor": 5
}
